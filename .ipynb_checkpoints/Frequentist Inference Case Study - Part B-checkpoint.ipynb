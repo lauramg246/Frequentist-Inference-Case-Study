{
 "cells": [
  {
   "cell_type": "markdown",
   "metadata": {},
   "source": [
    "# Frequentist Inference Case Study - Part B"
   ]
  },
  {
   "cell_type": "markdown",
   "metadata": {},
   "source": [
    "## Learning objectives"
   ]
  },
  {
   "cell_type": "markdown",
   "metadata": {},
   "source": [
    "Welcome to Part B of the Frequentist inference case study! The purpose of this case study is to help you apply the concepts associated with Frequentist inference in Python. In particular, you'll practice writing Python code to apply the following statistical concepts: \n",
    "* the _z_-statistic\n",
    "* the _t_-statistic\n",
    "* the difference and relationship between the two\n",
    "* the Central Limit Theorem, including its assumptions and consequences\n",
    "* how to estimate the population mean and standard deviation from a sample\n",
    "* the concept of a sampling distribution of a test statistic, particularly for the mean\n",
    "* how to combine these concepts to calculate a confidence interval"
   ]
  },
  {
   "cell_type": "markdown",
   "metadata": {},
   "source": [
    "In the previous notebook, we used only data from a known normal distribution. **You'll now tackle real data, rather than simulated data, and answer some relevant real-world business problems using the data.**"
   ]
  },
  {
   "cell_type": "markdown",
   "metadata": {},
   "source": [
    "## Hospital medical charges"
   ]
  },
  {
   "cell_type": "markdown",
   "metadata": {},
   "source": [
    "Imagine that a hospital has hired you as their data scientist. An administrator is working on the hospital's business operations plan and needs you to help them answer some business questions. \n",
    "\n",
    "In this assignment notebook, you're going to use frequentist statistical inference on a data sample to answer the questions:\n",
    "* has the hospital's revenue stream fallen below a key threshold?\n",
    "* are patients with insurance really charged different amounts than those without?\n",
    "\n",
    "Answering that last question with a frequentist approach makes some assumptions, and requires some knowledge, about the two groups."
   ]
  },
  {
   "cell_type": "markdown",
   "metadata": {},
   "source": [
    "We are going to use some data on medical charges obtained from [Kaggle](https://www.kaggle.com/easonlai/sample-insurance-claim-prediction-dataset). \n",
    "\n",
    "For the purposes of this exercise, assume the observations are the result of random sampling from our single hospital. Recall that in the previous assignment, we introduced the Central Limit Theorem (CLT), and its consequence that the distributions of sample statistics approach a normal distribution as $n$ increases. The amazing thing about this is that it applies to the sampling distributions of statistics that have been calculated from even highly non-normal distributions of data! Recall, also, that hypothesis testing is very much based on making inferences about such sample statistics. You're going to rely heavily on the CLT to apply frequentist (parametric) tests to answer the questions in this notebook."
   ]
  },
  {
   "cell_type": "code",
   "execution_count": 31,
   "metadata": {},
   "outputs": [],
   "source": [
    "import pandas as pd\n",
    "import numpy as np\n",
    "import matplotlib.pyplot as plt\n",
    "from scipy.stats import t, ttest_ind\n",
    "from numpy.random import seed\n",
    "medical = pd.read_csv('insurance2.csv')"
   ]
  },
  {
   "cell_type": "code",
   "execution_count": 32,
   "metadata": {},
   "outputs": [
    {
     "data": {
      "text/plain": [
       "(1338, 8)"
      ]
     },
     "execution_count": 32,
     "metadata": {},
     "output_type": "execute_result"
    }
   ],
   "source": [
    "medical.shape"
   ]
  },
  {
   "cell_type": "code",
   "execution_count": 33,
   "metadata": {},
   "outputs": [
    {
     "data": {
      "text/html": [
       "<div>\n",
       "<style scoped>\n",
       "    .dataframe tbody tr th:only-of-type {\n",
       "        vertical-align: middle;\n",
       "    }\n",
       "\n",
       "    .dataframe tbody tr th {\n",
       "        vertical-align: top;\n",
       "    }\n",
       "\n",
       "    .dataframe thead th {\n",
       "        text-align: right;\n",
       "    }\n",
       "</style>\n",
       "<table border=\"1\" class=\"dataframe\">\n",
       "  <thead>\n",
       "    <tr style=\"text-align: right;\">\n",
       "      <th></th>\n",
       "      <th>age</th>\n",
       "      <th>sex</th>\n",
       "      <th>bmi</th>\n",
       "      <th>children</th>\n",
       "      <th>smoker</th>\n",
       "      <th>region</th>\n",
       "      <th>charges</th>\n",
       "      <th>insuranceclaim</th>\n",
       "    </tr>\n",
       "  </thead>\n",
       "  <tbody>\n",
       "    <tr>\n",
       "      <th>0</th>\n",
       "      <td>19</td>\n",
       "      <td>0</td>\n",
       "      <td>27.900</td>\n",
       "      <td>0</td>\n",
       "      <td>1</td>\n",
       "      <td>3</td>\n",
       "      <td>16884.92400</td>\n",
       "      <td>1</td>\n",
       "    </tr>\n",
       "    <tr>\n",
       "      <th>1</th>\n",
       "      <td>18</td>\n",
       "      <td>1</td>\n",
       "      <td>33.770</td>\n",
       "      <td>1</td>\n",
       "      <td>0</td>\n",
       "      <td>2</td>\n",
       "      <td>1725.55230</td>\n",
       "      <td>1</td>\n",
       "    </tr>\n",
       "    <tr>\n",
       "      <th>2</th>\n",
       "      <td>28</td>\n",
       "      <td>1</td>\n",
       "      <td>33.000</td>\n",
       "      <td>3</td>\n",
       "      <td>0</td>\n",
       "      <td>2</td>\n",
       "      <td>4449.46200</td>\n",
       "      <td>0</td>\n",
       "    </tr>\n",
       "    <tr>\n",
       "      <th>3</th>\n",
       "      <td>33</td>\n",
       "      <td>1</td>\n",
       "      <td>22.705</td>\n",
       "      <td>0</td>\n",
       "      <td>0</td>\n",
       "      <td>1</td>\n",
       "      <td>21984.47061</td>\n",
       "      <td>0</td>\n",
       "    </tr>\n",
       "    <tr>\n",
       "      <th>4</th>\n",
       "      <td>32</td>\n",
       "      <td>1</td>\n",
       "      <td>28.880</td>\n",
       "      <td>0</td>\n",
       "      <td>0</td>\n",
       "      <td>1</td>\n",
       "      <td>3866.85520</td>\n",
       "      <td>1</td>\n",
       "    </tr>\n",
       "  </tbody>\n",
       "</table>\n",
       "</div>"
      ],
      "text/plain": [
       "   age  sex     bmi  children  smoker  region      charges  insuranceclaim\n",
       "0   19    0  27.900         0       1       3  16884.92400               1\n",
       "1   18    1  33.770         1       0       2   1725.55230               1\n",
       "2   28    1  33.000         3       0       2   4449.46200               0\n",
       "3   33    1  22.705         0       0       1  21984.47061               0\n",
       "4   32    1  28.880         0       0       1   3866.85520               1"
      ]
     },
     "execution_count": 33,
     "metadata": {},
     "output_type": "execute_result"
    }
   ],
   "source": [
    "medical.head()"
   ]
  },
  {
   "cell_type": "markdown",
   "metadata": {},
   "source": [
    "__Q1:__ Plot the histogram of charges and calculate the mean and standard deviation. Comment on the appropriateness of these statistics for the data."
   ]
  },
  {
   "cell_type": "markdown",
   "metadata": {},
   "source": [
    "__A:__The histogram shows the medical charges data is heavily right-skewed, not normally distributed. There are a few very high charges, or outliers, that pull the mean (13,270) to a higher value, making it a poor representation of a typical charge. Consequently, the standard deviation is also very large (12,110) and almost as big as the mean, confirming there is a massive spread in the data."
   ]
  },
  {
   "cell_type": "code",
   "execution_count": 34,
   "metadata": {},
   "outputs": [
    {
     "data": {
      "image/png": "[encoded data removed]",
      "text/plain": [
       "<Figure size 640x480 with 1 Axes>"
      ]
     },
     "metadata": {},
     "output_type": "display_data"
    }
   ],
   "source": [
    "# Create the histogram\n",
    "plt.hist(medical['charges'], bins=50)\n",
    "\n",
    "# Add a vertical line for the mean\n",
    "plt.axvline(mean_charge, color='red', linestyle='dashed', linewidth=2)\n",
    "\n",
    "# Add labels and title\n",
    "plt.title('Histogram of Medical Charges')\n",
    "plt.xlabel('Charges ($)')\n",
    "plt.ylabel('Frequency')\n",
    "\n",
    "# Show the plot\n",
    "plt.show()"
   ]
  },
  {
   "cell_type": "code",
   "execution_count": 35,
   "metadata": {},
   "outputs": [
    {
     "name": "stdout",
     "output_type": "stream",
     "text": [
      "Mean of charges: 13,270.42\n",
      "Standard deviation of charges: 12,110.01\n"
     ]
    }
   ],
   "source": [
    "# Calculate the mean and standard deviation\n",
    "mean_charge = medical['charges'].mean()\n",
    "std_charge = medical['charges'].std()\n",
    "\n",
    "print(f\"Mean of charges: {mean_charge:,.2f}\")\n",
    "print(f\"Standard deviation of charges: {std_charge:,.2f}\")"
   ]
  },
  {
   "cell_type": "markdown",
   "metadata": {},
   "source": [
    "__Q2:__ The administrator is concerned that the actual average charge has fallen below 12,000, threatening the hospital's operational model. On the assumption that these data represent a random sample of charges, how would you justify that these data allow you to answer that question? And what would be the most appropriate frequentist test, of the ones discussed so far, to apply?"
   ]
  },
  {
   "cell_type": "markdown",
   "metadata": {},
   "source": [
    "__A:__Although the raw data is heavily right-skewed, we can still answer the administrator's question because the Central Limit Theorem applies. We have a large (n=1338) random sample, which means the sampling distribution of the sample mean will be approximately normal, allowing for a frequentist test.  The most appropriate test is a t-test. This is because we are testing a single population mean but we do not know the true population standard deviation and must instead estimate it using the sample's standard deviation."
   ]
  },
  {
   "cell_type": "markdown",
   "metadata": {},
   "source": [
    "__Q3:__ Given the nature of the administrator's concern, what is the appropriate confidence interval in this case? A ***one-sided*** or ***two-sided*** interval? (Refresh your understanding of this concept on p. 399 of the *AoS*). Calculate the critical value and the relevant 95% confidence interval for the mean, and comment on whether the administrator should be concerned."
   ]
  },
  {
   "cell_type": "markdown",
   "metadata": {},
   "source": [
    "__A:__A one-sided confidence interval is appropriate here because the administrator's concern is directional—specifically that the average charge has fallen below 12,000. The calculation shows the 95% one-sided confidence interval has a lower bound of 12,725.51. This means we are 95% confident that the true average charge is greater than 12,725.51. Since this lower bound is well above the 12,000 threshold, the administrator should not be concerned."
   ]
  },
  {
   "cell_type": "code",
   "execution_count": 36,
   "metadata": {},
   "outputs": [],
   "source": [
    "# Calculate degrees of freedom\n",
    "n = len(medical['charges'])\n",
    "df = n - 1"
   ]
  },
  {
   "cell_type": "code",
   "execution_count": 37,
   "metadata": {},
   "outputs": [],
   "source": [
    "# Calculate the critical t-value for a 95% one-sided test (alpha = 0.05)\n",
    "t_critical = t.ppf(0.95, df)"
   ]
  },
  {
   "cell_type": "code",
   "execution_count": 38,
   "metadata": {},
   "outputs": [
    {
     "name": "stdout",
     "output_type": "stream",
     "text": [
      "Sample size (n): 1338\n",
      "Degrees of Freedom (df): 1337\n",
      "Critical t-value (one-sided): 1.646\n",
      "Standard Error of the Mean (se): 331.07\n",
      "95% Confidence Interval Lower Bound: 12,725.49\n"
     ]
    }
   ],
   "source": [
    "# Calculate the standard error of the mean\n",
    "se = std_charge / np.sqrt(n)\n",
    "\n",
    "# Calculate the margin of error\n",
    "margin_of_error = t_critical * se\n",
    "\n",
    "# Calculate the one-sided (lower) confidence bound\n",
    "lower_bound = mean_charge - margin_of_error\n",
    "\n",
    "print(f\"Sample size (n): {n}\")\n",
    "print(f\"Degrees of Freedom (df): {df}\")\n",
    "print(f\"Critical t-value (one-sided): {t_critical:.3f}\")\n",
    "print(f\"Standard Error of the Mean (se): {se:.2f}\")\n",
    "print(f\"95% Confidence Interval Lower Bound: {lower_bound:,.2f}\")"
   ]
  },
  {
   "cell_type": "markdown",
   "metadata": {},
   "source": [
    "The administrator then wants to know whether people with insurance really are charged a different amount to those without.\n",
    "\n",
    "__Q4:__ State the null and alternative hypothesis here. Use the _t_-test for the difference between means, where the pooled standard deviation of the two groups is given by:\n",
    "\\begin{equation}\n",
    "s_p = \\sqrt{\\frac{(n_0 - 1)s^2_0 + (n_1 - 1)s^2_1}{n_0 + n_1 - 2}}\n",
    "\\end{equation}\n",
    "\n",
    "and the *t*-test statistic is then given by:\n",
    "\n",
    "\\begin{equation}\n",
    "t = \\frac{\\bar{x}_0 - \\bar{x}_1}{s_p \\sqrt{1/n_0 + 1/n_1}}.\n",
    "\\end{equation}\n",
    "\n",
    "(If you need some reminding of the general definition of ***t-statistic***, check out the definition on p. 404 of *AoS*). \n",
    "\n",
    "What assumption about the variances of the two groups are we making here?"
   ]
  },
  {
   "cell_type": "markdown",
   "metadata": {},
   "source": [
    "__A:__\n",
    "Null hypothesis: There is no difference in the true mean charges between the two groups.\n",
    "Alternative Hypothesis: There is a difference in the true mean charges between the two groups.\n",
    "By using the provided formula for the pooled standard deviation, we are making the assumption that the variances of the two groups are equal. "
   ]
  },
  {
   "cell_type": "markdown",
   "metadata": {},
   "source": [
    "__Q5:__ Perform this hypothesis test both manually, using the above formulae, and then using the appropriate function from [scipy.stats](https://docs.scipy.org/doc/scipy/reference/stats.html#statistical-tests) (hint, you're looking for a function to perform a _t_-test on two independent samples). For the manual approach, calculate the value of the test statistic and then its probability (the p-value). Verify you get the same results from both."
   ]
  },
  {
   "cell_type": "markdown",
   "metadata": {},
   "source": [
    "__A:__ The same results were achieved from both. "
   ]
  },
  {
   "cell_type": "code",
   "execution_count": 39,
   "metadata": {},
   "outputs": [
    {
     "name": "stdout",
     "output_type": "stream",
     "text": [
      "--- Manual Calculation ---\n",
      "Pooled Standard Deviation (s_p): 11,520.03\n",
      "T-statistic (manual): -11.89\n",
      "P-value (manual): 4.4612302316205886e-31\n"
     ]
    }
   ],
   "source": [
    "# 1. Separate the data into two groups\n",
    "uninsured = medical[medical['insuranceclaim'] == 0]['charges']\n",
    "insured = medical[medical['insuranceclaim'] == 1]['charges']\n",
    "\n",
    "# 2. Calculate statistics for each group\n",
    "# Uninsured (group 0)\n",
    "n0 = len(uninsured)\n",
    "x0_bar = uninsured.mean()\n",
    "# Use ddof=1 for sample variance\n",
    "s0_var = uninsured.var(ddof=1) \n",
    "\n",
    "# Insured (group 1)\n",
    "n1 = len(insured)\n",
    "x1_bar = insured.mean()\n",
    "# Use ddof=1 for sample variance\n",
    "s1_var = insured.var(ddof=1) \n",
    "\n",
    "# 3. Calculate the pooled standard deviation (s_p)\n",
    "df = n0 + n1 - 2\n",
    "s_p_num = (n0 - 1) * s0_var + (n1 - 1) * s1_var\n",
    "s_p = np.sqrt(s_p_num / df)\n",
    "\n",
    "# 4. Calculate the t-statistic\n",
    "t_num = x0_bar - x1_bar\n",
    "t_den = s_p * np.sqrt(1/n0 + 1/n1)\n",
    "t_stat_manual = t_num / t_den\n",
    "\n",
    "# 5. Calculate the p-value (two-sided)\n",
    "p_value_manual = 2 * t.cdf(t_stat_manual, df=df)\n",
    "\n",
    "print(\"--- Manual Calculation ---\")\n",
    "print(f\"Pooled Standard Deviation (s_p): {s_p:,.2f}\")\n",
    "print(f\"T-statistic (manual): {t_stat_manual:.2f}\")\n",
    "print(f\"P-value (manual): {p_value_manual}\")\n"
   ]
  },
  {
   "cell_type": "code",
   "execution_count": 40,
   "metadata": {},
   "outputs": [
    {
     "name": "stdout",
     "output_type": "stream",
     "text": [
      "\n",
      "--- Scipy.stats Calculation ---\n",
      "T-statistic (scipy): -11.89\n",
      "P-value (scipy): 4.461230231620717e-31\n"
     ]
    }
   ],
   "source": [
    "# Use ttest_ind (independent two-sample t-test)\n",
    "t_stat_scipy, p_value_scipy = ttest_ind(uninsured, insured, equal_var=True)\n",
    "\n",
    "print(\"\\n--- Scipy.stats Calculation ---\")\n",
    "print(f\"T-statistic (scipy): {t_stat_scipy:.2f}\")\n",
    "print(f\"P-value (scipy): {p_value_scipy}\")"
   ]
  },
  {
   "cell_type": "markdown",
   "metadata": {},
   "source": [
    "Congratulations! Hopefully you got the exact same numerical results. This shows that you correctly calculated the numbers by hand. Secondly, you used the correct function and saw that it's much easier to use. All you need to do is pass your data to it."
   ]
  },
  {
   "cell_type": "markdown",
   "metadata": {},
   "source": [
    "__Q6:__ Conceptual question: look through the documentation for statistical test functions in scipy.stats. You'll see the above _t_-test for a sample, but can you see an equivalent one for performing a *z*-test from a sample? Comment on your answer."
   ]
  },
  {
   "cell_type": "markdown",
   "metadata": {},
   "source": [
    "__A:__No, you won't find an equivalent z-test function for a sample in scipy.stats because it's a theoretical test, not a practical one. A z-test requires you to know the true population standard deviation, which is almost never the case in real-world data. scipy.stats provides the t-test because this is the correct, practical tool to use when you must estimate the standard deviation from your sample. Even as the sample size gets very large and the t-distribution approaches the normal z-distribution , the t-test remains the more accurate and appropriate choice."
   ]
  },
  {
   "cell_type": "markdown",
   "metadata": {},
   "source": [
    "## Learning outcomes"
   ]
  },
  {
   "cell_type": "markdown",
   "metadata": {},
   "source": [
    "Having completed this project notebook, you now have good hands-on experience:\n",
    "* using the central limit theorem to help you apply frequentist techniques to answer questions that pertain to very non-normally distributed data from the real world\n",
    "* performing inference using such data to answer business questions\n",
    "* forming a hypothesis and framing the null and alternative hypotheses\n",
    "* testing this using a _t_-test"
   ]
  }
 ],
 "metadata": {
  "kernelspec": {
   "display_name": "Python [conda env:base] *",
   "language": "python",
   "name": "conda-base-py"
  },
  "language_info": {
   "codemirror_mode": {
    "name": "ipython",
    "version": 3
   },
   "file_extension": ".py",
   "mimetype": "text/x-python",
   "name": "python",
   "nbconvert_exporter": "python",
   "pygments_lexer": "ipython3",
   "version": "3.12.7"
  }
 },
 "nbformat": 4,
 "nbformat_minor": 4
}
